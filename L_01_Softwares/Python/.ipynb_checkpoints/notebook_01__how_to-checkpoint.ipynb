{
 "cells": [
  {
   "cell_type": "markdown",
   "metadata": {},
   "source": [
    "### Definições preliminares"
   ]
  },
  {
   "cell_type": "code",
   "execution_count": 1,
   "metadata": {},
   "outputs": [],
   "source": [
    "import cv2 #OpenCV\n",
    "import numpy as np #numpy para trablahar com arrays\n",
    "import matplotlib.pyplot as plt"
   ]
  },
  {
   "cell_type": "markdown",
   "metadata": {},
   "source": [
    "## Carregar imagem"
   ]
  },
  {
   "cell_type": "code",
   "execution_count": 5,
   "metadata": {},
   "outputs": [],
   "source": [
    "img = cv2.imread('../figs/lena_color_256.tif')"
   ]
  },
  {
   "cell_type": "code",
   "execution_count": 7,
   "metadata": {},
   "outputs": [
    {
     "data": {
      "text/plain": [
       "array([[[125, 137, 226],\n",
       "        [130, 136, 223],\n",
       "        [118, 133, 226],\n",
       "        ...,\n",
       "        [127, 145, 230],\n",
       "        [122, 148, 232],\n",
       "        [100, 114, 210]],\n",
       "\n",
       "       [[125, 137, 226],\n",
       "        [130, 136, 223],\n",
       "        [118, 133, 226],\n",
       "        ...,\n",
       "        [127, 145, 230],\n",
       "        [122, 148, 232],\n",
       "        [100, 114, 210]],\n",
       "\n",
       "       [[124, 138, 226],\n",
       "        [121, 133, 223],\n",
       "        [117, 134, 226],\n",
       "        ...,\n",
       "        [118, 133, 222],\n",
       "        [108, 125, 217],\n",
       "        [ 90,  87, 182]],\n",
       "\n",
       "       ...,\n",
       "\n",
       "       [[ 61,  28,  90],\n",
       "        [ 61,  28,  91],\n",
       "        [ 63,  29,  97],\n",
       "        ...,\n",
       "        [ 71,  53, 140],\n",
       "        [ 73,  62, 158],\n",
       "        [ 74,  59, 161]],\n",
       "\n",
       "       [[ 60,  20,  85],\n",
       "        [ 59,  25,  91],\n",
       "        [ 62,  26,  94],\n",
       "        ...,\n",
       "        [ 82,  64, 153],\n",
       "        [ 81,  69, 172],\n",
       "        [ 78,  65, 170]],\n",
       "\n",
       "       [[ 57,  22,  82],\n",
       "        [ 62,  30,  94],\n",
       "        [ 61,  25,  95],\n",
       "        ...,\n",
       "        [ 84,  71, 167],\n",
       "        [ 78,  68, 178],\n",
       "        [ 81,  72, 183]]], dtype=uint8)"
      ]
     },
     "execution_count": 7,
     "metadata": {},
     "output_type": "execute_result"
    }
   ],
   "source": [
    "img"
   ]
  },
  {
   "cell_type": "code",
   "execution_count": null,
   "metadata": {},
   "outputs": [],
   "source": []
  }
 ],
 "metadata": {
  "kernelspec": {
   "display_name": "Python 3",
   "language": "python",
   "name": "python3"
  },
  "language_info": {
   "codemirror_mode": {
    "name": "ipython",
    "version": 3
   },
   "file_extension": ".py",
   "mimetype": "text/x-python",
   "name": "python",
   "nbconvert_exporter": "python",
   "pygments_lexer": "ipython3",
   "version": "3.6.5"
  }
 },
 "nbformat": 4,
 "nbformat_minor": 2
}
